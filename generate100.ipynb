{
 "cells": [
  {
   "cell_type": "markdown",
   "id": "160aa724-4946-49f2-9f50-dbf5d697162d",
   "metadata": {},
   "source": [
    "\n",
    "Final task\n",
    "\n",
    "To generate 100 different variations of an art creation\n",
    "\n",
    "To save as 100 png files - which could be used to create an NFT project\n"
   ]
  },
  {
   "cell_type": "code",
   "execution_count": 2,
   "id": "ae6bbaed-79b3-4c32-98a9-c57d4012d834",
   "metadata": {},
   "outputs": [],
   "source": [
    "import random\n",
    "from PIL import Image, ImageDraw"
   ]
  },
  {
   "cell_type": "code",
   "execution_count": 6,
   "id": "6cfbdf49-7526-4e54-b32d-468cf0769a69",
   "metadata": {},
   "outputs": [],
   "source": [
    "# w sets the width and height of image\n",
    "w=500\n",
    "\n",
    "# set how many images to create\n",
    "numberOfImages = 100\n",
    "\n",
    "for z in range(0, numberOfImages):\n",
    "\n",
    "    # create a new image to draw on with width and height = w\n",
    "    im = Image.new('RGB', size=(w, w))\n",
    "    draw = ImageDraw.Draw(im)\n",
    "\n",
    "    # set the number of big circles\n",
    "    numCircles = random.randint(200, 600)\n",
    "\n",
    "    # loop to create each big circle one at a time\n",
    "    for i in range(0, numCircles, 1):\n",
    "\n",
    "        # set the start x,y position for each circle at a random position\n",
    "        # in the range of + / - 50 outside of the width of the image\n",
    "        xStart = random.randint(-50, 550)\n",
    "        yStart = random.randint(-50, 550)\n",
    "\n",
    "        # each circle will have a number of rings\n",
    "        # set this number randomly between 2 and 15 rings\n",
    "        numRings = random.randint(2, 15)\n",
    "\n",
    "        for x in range(numRings, 0, -1):\n",
    "            for y in range(0, numRings, 1):\n",
    "\n",
    "                mX=xStart\n",
    "                mY=yStart\n",
    "\n",
    "                # diameter of cirle for ring smaller for each loop\n",
    "                # randomise how tight the rings are\n",
    "                d=w*x/random.randint(40, 150)\n",
    "                r=d/2\n",
    "\n",
    "                # use a conditional check to switch the fill colour between red and black\n",
    "                draw.ellipse(\n",
    "                    [(mX-r, mY-r), (mX+r, mY+r)],\n",
    "                    fill=((random.randint(128, 255), 0, 0) if x%2 else (0, 0, 0))\n",
    "                )\n",
    "                \n",
    "    # saves the created image to a file\n",
    "    imNameStr = 'myImage' + str(z) + '.png'\n",
    "    im.save(f'./cloudstor/' + imNameStr)\n"
   ]
  },
  {
   "cell_type": "code",
   "execution_count": null,
   "id": "b4963516-a493-4cfc-a461-b4201dfee907",
   "metadata": {},
   "outputs": [],
   "source": []
  }
 ],
 "metadata": {
  "kernelspec": {
   "display_name": "Python 3",
   "language": "python",
   "name": "python3"
  },
  "language_info": {
   "codemirror_mode": {
    "name": "ipython",
    "version": 3
   },
   "file_extension": ".py",
   "mimetype": "text/x-python",
   "name": "python",
   "nbconvert_exporter": "python",
   "pygments_lexer": "ipython3",
   "version": "3.9.12"
  }
 },
 "nbformat": 4,
 "nbformat_minor": 5
}
